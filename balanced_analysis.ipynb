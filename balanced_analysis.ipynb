{
 "cells": [
  {
   "cell_type": "code",
   "execution_count": 2,
   "metadata": {},
   "outputs": [],
   "source": [
    "import numpy as np \n",
    "import pandas as pd\n",
    "import matplotlib.pyplot as plt\n",
    "\n",
    "\n",
    "\n",
    "\n",
    "np.random.seed(2)\n"
   ]
  },
  {
   "cell_type": "code",
   "execution_count": 3,
   "metadata": {},
   "outputs": [],
   "source": [
    "d1 = pd.read_csv(r'C:\\Users\\Naman Bhoj\\Desktop\\Feb-April\\in process 2021\\cicn 3 adarsh\\data1.csv')\n",
    "d2 = pd.read_csv(r'C:\\Users\\Naman Bhoj\\Desktop\\Feb-April\\in process 2021\\cicn 3 adarsh\\data2.csv')\n",
    "d3 = pd.read_csv(r'C:\\Users\\Naman Bhoj\\Desktop\\Feb-April\\in process 2021\\cicn 3 adarsh\\data3.csv')\n",
    "d4 = pd.read_csv(r'C:\\Users\\Naman Bhoj\\Desktop\\Feb-April\\in process 2021\\cicn 3 adarsh\\data4.csv')\n",
    "d5 = pd.read_csv(r'C:\\Users\\Naman Bhoj\\Desktop\\Feb-April\\in process 2021\\cicn 3 adarsh\\data5.csv')\n",
    "d6 = pd.read_csv(r'C:\\Users\\Naman Bhoj\\Desktop\\Feb-April\\in process 2021\\cicn 3 adarsh\\data6.csv')\n",
    "d7 = pd.read_csv(r'C:\\Users\\Naman Bhoj\\Desktop\\Feb-April\\in process 2021\\cicn 3 adarsh\\data7.csv')\n",
    "d8 = pd.read_csv(r'C:\\Users\\Naman Bhoj\\Desktop\\Feb-April\\in process 2021\\cicn 3 adarsh\\data8.csv')\n",
    "d9 = pd.read_csv(r'C:\\Users\\Naman Bhoj\\Desktop\\Feb-April\\in process 2021\\cicn 3 adarsh\\data9.csv')\n",
    "d10 = pd.read_csv(r'C:\\Users\\Naman Bhoj\\Desktop\\Feb-April\\in process 2021\\cicn 3 adarsh\\data10.csv')\n",
    "d11 = pd.read_csv(r'C:\\Users\\Naman Bhoj\\Desktop\\Feb-April\\in process 2021\\cicn 3 adarsh\\data11.csv')\n",
    "d12 = pd.read_csv(r'C:\\Users\\Naman Bhoj\\Desktop\\Feb-April\\in process 2021\\cicn 3 adarsh\\data12.csv')\n",
    "d13 = pd.read_csv(r'C:\\Users\\Naman Bhoj\\Desktop\\Feb-April\\in process 2021\\cicn 3 adarsh\\data13.csv')\n",
    "d14 = pd.read_csv(r'C:\\Users\\Naman Bhoj\\Desktop\\Feb-April\\in process 2021\\cicn 3 adarsh\\data14.csv')\n",
    "d15 = pd.read_csv(r'C:\\Users\\Naman Bhoj\\Desktop\\Feb-April\\in process 2021\\cicn 3 adarsh\\data15.csv')"
   ]
  },
  {
   "cell_type": "code",
   "execution_count": 4,
   "metadata": {},
   "outputs": [],
   "source": [
    "dataset = pd.concat([d1,d2,d3,d4,d5,d6,d7,d8,d9,d10,d11,d12,d13,d14,d15],ignore_index=True)"
   ]
  },
  {
   "cell_type": "code",
   "execution_count": 5,
   "metadata": {},
   "outputs": [],
   "source": [
    "x_data = dataset.drop(['marker'],axis = 1 )"
   ]
  },
  {
   "cell_type": "code",
   "execution_count": 6,
   "metadata": {},
   "outputs": [],
   "source": [
    "y_data = dataset[['marker']]\n",
    "y_data = y_data.astype('category')\n"
   ]
  },
  {
   "cell_type": "code",
   "execution_count": 7,
   "metadata": {},
   "outputs": [],
   "source": [
    "x_data.replace([np.inf, -np.inf], np.nan, inplace=True)\n",
    "x_data.fillna(0, inplace=True)"
   ]
  },
  {
   "cell_type": "code",
   "execution_count": 8,
   "metadata": {},
   "outputs": [
    {
     "data": {
      "text/html": [
       "<div>\n",
       "<style scoped>\n",
       "    .dataframe tbody tr th:only-of-type {\n",
       "        vertical-align: middle;\n",
       "    }\n",
       "\n",
       "    .dataframe tbody tr th {\n",
       "        vertical-align: top;\n",
       "    }\n",
       "\n",
       "    .dataframe thead th {\n",
       "        text-align: right;\n",
       "    }\n",
       "</style>\n",
       "<table border=\"1\" class=\"dataframe\">\n",
       "  <thead>\n",
       "    <tr style=\"text-align: right;\">\n",
       "      <th></th>\n",
       "      <th>R1-PA1:VH</th>\n",
       "      <th>R1-PM1:V</th>\n",
       "      <th>R1-PA2:VH</th>\n",
       "      <th>R1-PM2:V</th>\n",
       "      <th>R1-PA3:VH</th>\n",
       "      <th>R1-PM3:V</th>\n",
       "      <th>R1-PA4:IH</th>\n",
       "      <th>R1-PM4:I</th>\n",
       "      <th>R1-PA5:IH</th>\n",
       "      <th>R1-PM5:I</th>\n",
       "      <th>...</th>\n",
       "      <th>control_panel_log3</th>\n",
       "      <th>control_panel_log4</th>\n",
       "      <th>relay1_log</th>\n",
       "      <th>relay2_log</th>\n",
       "      <th>relay3_log</th>\n",
       "      <th>relay4_log</th>\n",
       "      <th>snort_log1</th>\n",
       "      <th>snort_log2</th>\n",
       "      <th>snort_log3</th>\n",
       "      <th>snort_log4</th>\n",
       "    </tr>\n",
       "  </thead>\n",
       "  <tbody>\n",
       "    <tr>\n",
       "      <th>0</th>\n",
       "      <td>False</td>\n",
       "      <td>False</td>\n",
       "      <td>False</td>\n",
       "      <td>False</td>\n",
       "      <td>False</td>\n",
       "      <td>False</td>\n",
       "      <td>False</td>\n",
       "      <td>False</td>\n",
       "      <td>False</td>\n",
       "      <td>False</td>\n",
       "      <td>...</td>\n",
       "      <td>False</td>\n",
       "      <td>False</td>\n",
       "      <td>False</td>\n",
       "      <td>False</td>\n",
       "      <td>False</td>\n",
       "      <td>False</td>\n",
       "      <td>False</td>\n",
       "      <td>False</td>\n",
       "      <td>False</td>\n",
       "      <td>False</td>\n",
       "    </tr>\n",
       "    <tr>\n",
       "      <th>1</th>\n",
       "      <td>False</td>\n",
       "      <td>False</td>\n",
       "      <td>False</td>\n",
       "      <td>False</td>\n",
       "      <td>False</td>\n",
       "      <td>False</td>\n",
       "      <td>False</td>\n",
       "      <td>False</td>\n",
       "      <td>False</td>\n",
       "      <td>False</td>\n",
       "      <td>...</td>\n",
       "      <td>False</td>\n",
       "      <td>False</td>\n",
       "      <td>False</td>\n",
       "      <td>False</td>\n",
       "      <td>False</td>\n",
       "      <td>False</td>\n",
       "      <td>False</td>\n",
       "      <td>False</td>\n",
       "      <td>False</td>\n",
       "      <td>False</td>\n",
       "    </tr>\n",
       "    <tr>\n",
       "      <th>2</th>\n",
       "      <td>False</td>\n",
       "      <td>False</td>\n",
       "      <td>False</td>\n",
       "      <td>False</td>\n",
       "      <td>False</td>\n",
       "      <td>False</td>\n",
       "      <td>False</td>\n",
       "      <td>False</td>\n",
       "      <td>False</td>\n",
       "      <td>False</td>\n",
       "      <td>...</td>\n",
       "      <td>False</td>\n",
       "      <td>False</td>\n",
       "      <td>False</td>\n",
       "      <td>False</td>\n",
       "      <td>False</td>\n",
       "      <td>False</td>\n",
       "      <td>False</td>\n",
       "      <td>False</td>\n",
       "      <td>False</td>\n",
       "      <td>False</td>\n",
       "    </tr>\n",
       "    <tr>\n",
       "      <th>3</th>\n",
       "      <td>False</td>\n",
       "      <td>False</td>\n",
       "      <td>False</td>\n",
       "      <td>False</td>\n",
       "      <td>False</td>\n",
       "      <td>False</td>\n",
       "      <td>False</td>\n",
       "      <td>False</td>\n",
       "      <td>False</td>\n",
       "      <td>False</td>\n",
       "      <td>...</td>\n",
       "      <td>False</td>\n",
       "      <td>False</td>\n",
       "      <td>False</td>\n",
       "      <td>False</td>\n",
       "      <td>False</td>\n",
       "      <td>False</td>\n",
       "      <td>False</td>\n",
       "      <td>False</td>\n",
       "      <td>False</td>\n",
       "      <td>False</td>\n",
       "    </tr>\n",
       "    <tr>\n",
       "      <th>4</th>\n",
       "      <td>False</td>\n",
       "      <td>False</td>\n",
       "      <td>False</td>\n",
       "      <td>False</td>\n",
       "      <td>False</td>\n",
       "      <td>False</td>\n",
       "      <td>False</td>\n",
       "      <td>False</td>\n",
       "      <td>False</td>\n",
       "      <td>False</td>\n",
       "      <td>...</td>\n",
       "      <td>False</td>\n",
       "      <td>False</td>\n",
       "      <td>False</td>\n",
       "      <td>False</td>\n",
       "      <td>False</td>\n",
       "      <td>False</td>\n",
       "      <td>False</td>\n",
       "      <td>False</td>\n",
       "      <td>False</td>\n",
       "      <td>False</td>\n",
       "    </tr>\n",
       "    <tr>\n",
       "      <th>...</th>\n",
       "      <td>...</td>\n",
       "      <td>...</td>\n",
       "      <td>...</td>\n",
       "      <td>...</td>\n",
       "      <td>...</td>\n",
       "      <td>...</td>\n",
       "      <td>...</td>\n",
       "      <td>...</td>\n",
       "      <td>...</td>\n",
       "      <td>...</td>\n",
       "      <td>...</td>\n",
       "      <td>...</td>\n",
       "      <td>...</td>\n",
       "      <td>...</td>\n",
       "      <td>...</td>\n",
       "      <td>...</td>\n",
       "      <td>...</td>\n",
       "      <td>...</td>\n",
       "      <td>...</td>\n",
       "      <td>...</td>\n",
       "      <td>...</td>\n",
       "    </tr>\n",
       "    <tr>\n",
       "      <th>78372</th>\n",
       "      <td>False</td>\n",
       "      <td>False</td>\n",
       "      <td>False</td>\n",
       "      <td>False</td>\n",
       "      <td>False</td>\n",
       "      <td>False</td>\n",
       "      <td>False</td>\n",
       "      <td>False</td>\n",
       "      <td>False</td>\n",
       "      <td>False</td>\n",
       "      <td>...</td>\n",
       "      <td>False</td>\n",
       "      <td>False</td>\n",
       "      <td>False</td>\n",
       "      <td>False</td>\n",
       "      <td>False</td>\n",
       "      <td>False</td>\n",
       "      <td>False</td>\n",
       "      <td>False</td>\n",
       "      <td>False</td>\n",
       "      <td>False</td>\n",
       "    </tr>\n",
       "    <tr>\n",
       "      <th>78373</th>\n",
       "      <td>False</td>\n",
       "      <td>False</td>\n",
       "      <td>False</td>\n",
       "      <td>False</td>\n",
       "      <td>False</td>\n",
       "      <td>False</td>\n",
       "      <td>False</td>\n",
       "      <td>False</td>\n",
       "      <td>False</td>\n",
       "      <td>False</td>\n",
       "      <td>...</td>\n",
       "      <td>False</td>\n",
       "      <td>False</td>\n",
       "      <td>False</td>\n",
       "      <td>False</td>\n",
       "      <td>False</td>\n",
       "      <td>False</td>\n",
       "      <td>False</td>\n",
       "      <td>False</td>\n",
       "      <td>False</td>\n",
       "      <td>False</td>\n",
       "    </tr>\n",
       "    <tr>\n",
       "      <th>78374</th>\n",
       "      <td>False</td>\n",
       "      <td>False</td>\n",
       "      <td>False</td>\n",
       "      <td>False</td>\n",
       "      <td>False</td>\n",
       "      <td>False</td>\n",
       "      <td>False</td>\n",
       "      <td>False</td>\n",
       "      <td>False</td>\n",
       "      <td>False</td>\n",
       "      <td>...</td>\n",
       "      <td>False</td>\n",
       "      <td>False</td>\n",
       "      <td>False</td>\n",
       "      <td>False</td>\n",
       "      <td>False</td>\n",
       "      <td>False</td>\n",
       "      <td>False</td>\n",
       "      <td>False</td>\n",
       "      <td>False</td>\n",
       "      <td>False</td>\n",
       "    </tr>\n",
       "    <tr>\n",
       "      <th>78375</th>\n",
       "      <td>False</td>\n",
       "      <td>False</td>\n",
       "      <td>False</td>\n",
       "      <td>False</td>\n",
       "      <td>False</td>\n",
       "      <td>False</td>\n",
       "      <td>False</td>\n",
       "      <td>False</td>\n",
       "      <td>False</td>\n",
       "      <td>False</td>\n",
       "      <td>...</td>\n",
       "      <td>False</td>\n",
       "      <td>False</td>\n",
       "      <td>False</td>\n",
       "      <td>False</td>\n",
       "      <td>False</td>\n",
       "      <td>False</td>\n",
       "      <td>False</td>\n",
       "      <td>False</td>\n",
       "      <td>False</td>\n",
       "      <td>False</td>\n",
       "    </tr>\n",
       "    <tr>\n",
       "      <th>78376</th>\n",
       "      <td>False</td>\n",
       "      <td>False</td>\n",
       "      <td>False</td>\n",
       "      <td>False</td>\n",
       "      <td>False</td>\n",
       "      <td>False</td>\n",
       "      <td>False</td>\n",
       "      <td>False</td>\n",
       "      <td>False</td>\n",
       "      <td>False</td>\n",
       "      <td>...</td>\n",
       "      <td>False</td>\n",
       "      <td>False</td>\n",
       "      <td>False</td>\n",
       "      <td>False</td>\n",
       "      <td>False</td>\n",
       "      <td>False</td>\n",
       "      <td>False</td>\n",
       "      <td>False</td>\n",
       "      <td>False</td>\n",
       "      <td>False</td>\n",
       "    </tr>\n",
       "  </tbody>\n",
       "</table>\n",
       "<p>78377 rows × 128 columns</p>\n",
       "</div>"
      ],
      "text/plain": [
       "       R1-PA1:VH  R1-PM1:V  R1-PA2:VH  R1-PM2:V  R1-PA3:VH  R1-PM3:V  \\\n",
       "0          False     False      False     False      False     False   \n",
       "1          False     False      False     False      False     False   \n",
       "2          False     False      False     False      False     False   \n",
       "3          False     False      False     False      False     False   \n",
       "4          False     False      False     False      False     False   \n",
       "...          ...       ...        ...       ...        ...       ...   \n",
       "78372      False     False      False     False      False     False   \n",
       "78373      False     False      False     False      False     False   \n",
       "78374      False     False      False     False      False     False   \n",
       "78375      False     False      False     False      False     False   \n",
       "78376      False     False      False     False      False     False   \n",
       "\n",
       "       R1-PA4:IH  R1-PM4:I  R1-PA5:IH  R1-PM5:I  ...  control_panel_log3  \\\n",
       "0          False     False      False     False  ...               False   \n",
       "1          False     False      False     False  ...               False   \n",
       "2          False     False      False     False  ...               False   \n",
       "3          False     False      False     False  ...               False   \n",
       "4          False     False      False     False  ...               False   \n",
       "...          ...       ...        ...       ...  ...                 ...   \n",
       "78372      False     False      False     False  ...               False   \n",
       "78373      False     False      False     False  ...               False   \n",
       "78374      False     False      False     False  ...               False   \n",
       "78375      False     False      False     False  ...               False   \n",
       "78376      False     False      False     False  ...               False   \n",
       "\n",
       "       control_panel_log4  relay1_log  relay2_log  relay3_log  relay4_log  \\\n",
       "0                   False       False       False       False       False   \n",
       "1                   False       False       False       False       False   \n",
       "2                   False       False       False       False       False   \n",
       "3                   False       False       False       False       False   \n",
       "4                   False       False       False       False       False   \n",
       "...                   ...         ...         ...         ...         ...   \n",
       "78372               False       False       False       False       False   \n",
       "78373               False       False       False       False       False   \n",
       "78374               False       False       False       False       False   \n",
       "78375               False       False       False       False       False   \n",
       "78376               False       False       False       False       False   \n",
       "\n",
       "       snort_log1  snort_log2  snort_log3  snort_log4  \n",
       "0           False       False       False       False  \n",
       "1           False       False       False       False  \n",
       "2           False       False       False       False  \n",
       "3           False       False       False       False  \n",
       "4           False       False       False       False  \n",
       "...           ...         ...         ...         ...  \n",
       "78372       False       False       False       False  \n",
       "78373       False       False       False       False  \n",
       "78374       False       False       False       False  \n",
       "78375       False       False       False       False  \n",
       "78376       False       False       False       False  \n",
       "\n",
       "[78377 rows x 128 columns]"
      ]
     },
     "execution_count": 8,
     "metadata": {},
     "output_type": "execute_result"
    }
   ],
   "source": [
    "x_data.isnull()"
   ]
  },
  {
   "cell_type": "code",
   "execution_count": 9,
   "metadata": {},
   "outputs": [
    {
     "data": {
      "text/plain": [
       "Attack     55663\n",
       "Natural    22714\n",
       "Name: marker, dtype: int64"
      ]
     },
     "execution_count": 9,
     "metadata": {},
     "output_type": "execute_result"
    }
   ],
   "source": [
    "y_data['marker'].value_counts()"
   ]
  },
  {
   "cell_type": "code",
   "execution_count": 10,
   "metadata": {},
   "outputs": [],
   "source": [
    "y_data = y_data.replace({'Natural': 0, 'Attack': 1})"
   ]
  },
  {
   "cell_type": "code",
   "execution_count": 11,
   "metadata": {},
   "outputs": [
    {
     "data": {
      "text/plain": [
       "1    55663\n",
       "0    22714\n",
       "Name: marker, dtype: int64"
      ]
     },
     "execution_count": 11,
     "metadata": {},
     "output_type": "execute_result"
    }
   ],
   "source": [
    "y_data['marker'].value_counts()"
   ]
  },
  {
   "cell_type": "markdown",
   "metadata": {},
   "source": [
    "# no null values already dealt with null values"
   ]
  },
  {
   "cell_type": "code",
   "execution_count": 12,
   "metadata": {},
   "outputs": [
    {
     "data": {
      "text/html": [
       "<div>\n",
       "<style scoped>\n",
       "    .dataframe tbody tr th:only-of-type {\n",
       "        vertical-align: middle;\n",
       "    }\n",
       "\n",
       "    .dataframe tbody tr th {\n",
       "        vertical-align: top;\n",
       "    }\n",
       "\n",
       "    .dataframe thead th {\n",
       "        text-align: right;\n",
       "    }\n",
       "</style>\n",
       "<table border=\"1\" class=\"dataframe\">\n",
       "  <thead>\n",
       "    <tr style=\"text-align: right;\">\n",
       "      <th></th>\n",
       "      <th>R1-PA1:VH</th>\n",
       "      <th>R1-PM1:V</th>\n",
       "      <th>R1-PA2:VH</th>\n",
       "      <th>R1-PM2:V</th>\n",
       "      <th>R1-PA3:VH</th>\n",
       "      <th>R1-PM3:V</th>\n",
       "      <th>R1-PA4:IH</th>\n",
       "      <th>R1-PM4:I</th>\n",
       "      <th>R1-PA5:IH</th>\n",
       "      <th>R1-PM5:I</th>\n",
       "      <th>...</th>\n",
       "      <th>control_panel_log3</th>\n",
       "      <th>control_panel_log4</th>\n",
       "      <th>relay1_log</th>\n",
       "      <th>relay2_log</th>\n",
       "      <th>relay3_log</th>\n",
       "      <th>relay4_log</th>\n",
       "      <th>snort_log1</th>\n",
       "      <th>snort_log2</th>\n",
       "      <th>snort_log3</th>\n",
       "      <th>snort_log4</th>\n",
       "    </tr>\n",
       "  </thead>\n",
       "  <tbody>\n",
       "    <tr>\n",
       "      <th>0</th>\n",
       "      <td>70.399324</td>\n",
       "      <td>127673.0908</td>\n",
       "      <td>-49.572308</td>\n",
       "      <td>127648.0176</td>\n",
       "      <td>-169.578319</td>\n",
       "      <td>127723.2374</td>\n",
       "      <td>65.689611</td>\n",
       "      <td>605.91099</td>\n",
       "      <td>-57.003571</td>\n",
       "      <td>626.78553</td>\n",
       "      <td>...</td>\n",
       "      <td>0</td>\n",
       "      <td>0</td>\n",
       "      <td>0</td>\n",
       "      <td>0</td>\n",
       "      <td>0</td>\n",
       "      <td>0</td>\n",
       "      <td>0</td>\n",
       "      <td>0</td>\n",
       "      <td>0</td>\n",
       "      <td>0</td>\n",
       "    </tr>\n",
       "    <tr>\n",
       "      <th>1</th>\n",
       "      <td>73.688102</td>\n",
       "      <td>130280.7109</td>\n",
       "      <td>-46.300719</td>\n",
       "      <td>130255.6377</td>\n",
       "      <td>-166.278082</td>\n",
       "      <td>130355.9307</td>\n",
       "      <td>71.831719</td>\n",
       "      <td>483.59351</td>\n",
       "      <td>-50.947407</td>\n",
       "      <td>500.98896</td>\n",
       "      <td>...</td>\n",
       "      <td>0</td>\n",
       "      <td>0</td>\n",
       "      <td>0</td>\n",
       "      <td>0</td>\n",
       "      <td>0</td>\n",
       "      <td>0</td>\n",
       "      <td>0</td>\n",
       "      <td>0</td>\n",
       "      <td>0</td>\n",
       "      <td>0</td>\n",
       "    </tr>\n",
       "    <tr>\n",
       "      <th>2</th>\n",
       "      <td>73.733939</td>\n",
       "      <td>130305.7842</td>\n",
       "      <td>-46.254883</td>\n",
       "      <td>130280.7109</td>\n",
       "      <td>-166.232245</td>\n",
       "      <td>130381.0040</td>\n",
       "      <td>71.808800</td>\n",
       "      <td>483.59351</td>\n",
       "      <td>-50.913030</td>\n",
       "      <td>500.98896</td>\n",
       "      <td>...</td>\n",
       "      <td>0</td>\n",
       "      <td>0</td>\n",
       "      <td>0</td>\n",
       "      <td>0</td>\n",
       "      <td>0</td>\n",
       "      <td>0</td>\n",
       "      <td>0</td>\n",
       "      <td>0</td>\n",
       "      <td>0</td>\n",
       "      <td>0</td>\n",
       "    </tr>\n",
       "    <tr>\n",
       "      <th>3</th>\n",
       "      <td>74.083443</td>\n",
       "      <td>130581.5902</td>\n",
       "      <td>-45.899649</td>\n",
       "      <td>130556.5169</td>\n",
       "      <td>-165.882741</td>\n",
       "      <td>130656.8100</td>\n",
       "      <td>72.152575</td>\n",
       "      <td>482.86107</td>\n",
       "      <td>-50.437475</td>\n",
       "      <td>499.15786</td>\n",
       "      <td>...</td>\n",
       "      <td>0</td>\n",
       "      <td>0</td>\n",
       "      <td>0</td>\n",
       "      <td>0</td>\n",
       "      <td>0</td>\n",
       "      <td>0</td>\n",
       "      <td>0</td>\n",
       "      <td>0</td>\n",
       "      <td>0</td>\n",
       "      <td>0</td>\n",
       "    </tr>\n",
       "    <tr>\n",
       "      <th>4</th>\n",
       "      <td>74.553268</td>\n",
       "      <td>131083.0556</td>\n",
       "      <td>-45.424094</td>\n",
       "      <td>131057.9823</td>\n",
       "      <td>-165.424375</td>\n",
       "      <td>131158.2754</td>\n",
       "      <td>72.118198</td>\n",
       "      <td>484.50906</td>\n",
       "      <td>-50.013486</td>\n",
       "      <td>497.69298</td>\n",
       "      <td>...</td>\n",
       "      <td>0</td>\n",
       "      <td>0</td>\n",
       "      <td>0</td>\n",
       "      <td>0</td>\n",
       "      <td>0</td>\n",
       "      <td>0</td>\n",
       "      <td>0</td>\n",
       "      <td>0</td>\n",
       "      <td>0</td>\n",
       "      <td>0</td>\n",
       "    </tr>\n",
       "    <tr>\n",
       "      <th>...</th>\n",
       "      <td>...</td>\n",
       "      <td>...</td>\n",
       "      <td>...</td>\n",
       "      <td>...</td>\n",
       "      <td>...</td>\n",
       "      <td>...</td>\n",
       "      <td>...</td>\n",
       "      <td>...</td>\n",
       "      <td>...</td>\n",
       "      <td>...</td>\n",
       "      <td>...</td>\n",
       "      <td>...</td>\n",
       "      <td>...</td>\n",
       "      <td>...</td>\n",
       "      <td>...</td>\n",
       "      <td>...</td>\n",
       "      <td>...</td>\n",
       "      <td>...</td>\n",
       "      <td>...</td>\n",
       "      <td>...</td>\n",
       "      <td>...</td>\n",
       "    </tr>\n",
       "    <tr>\n",
       "      <th>78372</th>\n",
       "      <td>141.589330</td>\n",
       "      <td>131885.4002</td>\n",
       "      <td>21.606238</td>\n",
       "      <td>131860.3269</td>\n",
       "      <td>-98.382583</td>\n",
       "      <td>131960.6200</td>\n",
       "      <td>143.348311</td>\n",
       "      <td>309.45590</td>\n",
       "      <td>22.156278</td>\n",
       "      <td>315.13231</td>\n",
       "      <td>...</td>\n",
       "      <td>0</td>\n",
       "      <td>0</td>\n",
       "      <td>0</td>\n",
       "      <td>0</td>\n",
       "      <td>0</td>\n",
       "      <td>0</td>\n",
       "      <td>0</td>\n",
       "      <td>0</td>\n",
       "      <td>0</td>\n",
       "      <td>0</td>\n",
       "    </tr>\n",
       "    <tr>\n",
       "      <th>78373</th>\n",
       "      <td>141.526305</td>\n",
       "      <td>131960.6200</td>\n",
       "      <td>21.566131</td>\n",
       "      <td>131910.4735</td>\n",
       "      <td>-98.439879</td>\n",
       "      <td>132010.7666</td>\n",
       "      <td>143.010266</td>\n",
       "      <td>310.37145</td>\n",
       "      <td>21.915636</td>\n",
       "      <td>315.49853</td>\n",
       "      <td>...</td>\n",
       "      <td>0</td>\n",
       "      <td>0</td>\n",
       "      <td>0</td>\n",
       "      <td>0</td>\n",
       "      <td>0</td>\n",
       "      <td>0</td>\n",
       "      <td>0</td>\n",
       "      <td>0</td>\n",
       "      <td>0</td>\n",
       "      <td>0</td>\n",
       "    </tr>\n",
       "    <tr>\n",
       "      <th>78374</th>\n",
       "      <td>141.365877</td>\n",
       "      <td>132035.8398</td>\n",
       "      <td>21.394244</td>\n",
       "      <td>131985.6933</td>\n",
       "      <td>-98.611766</td>\n",
       "      <td>132085.9864</td>\n",
       "      <td>141.950294</td>\n",
       "      <td>313.30121</td>\n",
       "      <td>21.245275</td>\n",
       "      <td>317.14652</td>\n",
       "      <td>...</td>\n",
       "      <td>0</td>\n",
       "      <td>0</td>\n",
       "      <td>0</td>\n",
       "      <td>0</td>\n",
       "      <td>0</td>\n",
       "      <td>0</td>\n",
       "      <td>0</td>\n",
       "      <td>0</td>\n",
       "      <td>0</td>\n",
       "      <td>0</td>\n",
       "    </tr>\n",
       "    <tr>\n",
       "      <th>78375</th>\n",
       "      <td>141.348688</td>\n",
       "      <td>132035.8398</td>\n",
       "      <td>21.371326</td>\n",
       "      <td>131985.6933</td>\n",
       "      <td>-98.617496</td>\n",
       "      <td>132111.0596</td>\n",
       "      <td>141.829973</td>\n",
       "      <td>313.11810</td>\n",
       "      <td>21.193709</td>\n",
       "      <td>317.51274</td>\n",
       "      <td>...</td>\n",
       "      <td>0</td>\n",
       "      <td>0</td>\n",
       "      <td>0</td>\n",
       "      <td>0</td>\n",
       "      <td>0</td>\n",
       "      <td>0</td>\n",
       "      <td>0</td>\n",
       "      <td>0</td>\n",
       "      <td>0</td>\n",
       "      <td>0</td>\n",
       "    </tr>\n",
       "    <tr>\n",
       "      <th>78376</th>\n",
       "      <td>141.251285</td>\n",
       "      <td>132035.8398</td>\n",
       "      <td>21.291112</td>\n",
       "      <td>132010.7666</td>\n",
       "      <td>-98.720628</td>\n",
       "      <td>132085.9864</td>\n",
       "      <td>141.554953</td>\n",
       "      <td>313.85054</td>\n",
       "      <td>20.958796</td>\n",
       "      <td>317.69585</td>\n",
       "      <td>...</td>\n",
       "      <td>0</td>\n",
       "      <td>0</td>\n",
       "      <td>0</td>\n",
       "      <td>0</td>\n",
       "      <td>0</td>\n",
       "      <td>0</td>\n",
       "      <td>0</td>\n",
       "      <td>0</td>\n",
       "      <td>0</td>\n",
       "      <td>0</td>\n",
       "    </tr>\n",
       "  </tbody>\n",
       "</table>\n",
       "<p>78377 rows × 128 columns</p>\n",
       "</div>"
      ],
      "text/plain": [
       "        R1-PA1:VH     R1-PM1:V  R1-PA2:VH     R1-PM2:V   R1-PA3:VH  \\\n",
       "0       70.399324  127673.0908 -49.572308  127648.0176 -169.578319   \n",
       "1       73.688102  130280.7109 -46.300719  130255.6377 -166.278082   \n",
       "2       73.733939  130305.7842 -46.254883  130280.7109 -166.232245   \n",
       "3       74.083443  130581.5902 -45.899649  130556.5169 -165.882741   \n",
       "4       74.553268  131083.0556 -45.424094  131057.9823 -165.424375   \n",
       "...           ...          ...        ...          ...         ...   \n",
       "78372  141.589330  131885.4002  21.606238  131860.3269  -98.382583   \n",
       "78373  141.526305  131960.6200  21.566131  131910.4735  -98.439879   \n",
       "78374  141.365877  132035.8398  21.394244  131985.6933  -98.611766   \n",
       "78375  141.348688  132035.8398  21.371326  131985.6933  -98.617496   \n",
       "78376  141.251285  132035.8398  21.291112  132010.7666  -98.720628   \n",
       "\n",
       "          R1-PM3:V   R1-PA4:IH   R1-PM4:I  R1-PA5:IH   R1-PM5:I  ...  \\\n",
       "0      127723.2374   65.689611  605.91099 -57.003571  626.78553  ...   \n",
       "1      130355.9307   71.831719  483.59351 -50.947407  500.98896  ...   \n",
       "2      130381.0040   71.808800  483.59351 -50.913030  500.98896  ...   \n",
       "3      130656.8100   72.152575  482.86107 -50.437475  499.15786  ...   \n",
       "4      131158.2754   72.118198  484.50906 -50.013486  497.69298  ...   \n",
       "...            ...         ...        ...        ...        ...  ...   \n",
       "78372  131960.6200  143.348311  309.45590  22.156278  315.13231  ...   \n",
       "78373  132010.7666  143.010266  310.37145  21.915636  315.49853  ...   \n",
       "78374  132085.9864  141.950294  313.30121  21.245275  317.14652  ...   \n",
       "78375  132111.0596  141.829973  313.11810  21.193709  317.51274  ...   \n",
       "78376  132085.9864  141.554953  313.85054  20.958796  317.69585  ...   \n",
       "\n",
       "       control_panel_log3  control_panel_log4  relay1_log  relay2_log  \\\n",
       "0                       0                   0           0           0   \n",
       "1                       0                   0           0           0   \n",
       "2                       0                   0           0           0   \n",
       "3                       0                   0           0           0   \n",
       "4                       0                   0           0           0   \n",
       "...                   ...                 ...         ...         ...   \n",
       "78372                   0                   0           0           0   \n",
       "78373                   0                   0           0           0   \n",
       "78374                   0                   0           0           0   \n",
       "78375                   0                   0           0           0   \n",
       "78376                   0                   0           0           0   \n",
       "\n",
       "       relay3_log  relay4_log  snort_log1  snort_log2  snort_log3  snort_log4  \n",
       "0               0           0           0           0           0           0  \n",
       "1               0           0           0           0           0           0  \n",
       "2               0           0           0           0           0           0  \n",
       "3               0           0           0           0           0           0  \n",
       "4               0           0           0           0           0           0  \n",
       "...           ...         ...         ...         ...         ...         ...  \n",
       "78372           0           0           0           0           0           0  \n",
       "78373           0           0           0           0           0           0  \n",
       "78374           0           0           0           0           0           0  \n",
       "78375           0           0           0           0           0           0  \n",
       "78376           0           0           0           0           0           0  \n",
       "\n",
       "[78377 rows x 128 columns]"
      ]
     },
     "execution_count": 12,
     "metadata": {},
     "output_type": "execute_result"
    }
   ],
   "source": [
    "x_data"
   ]
  },
  {
   "cell_type": "markdown",
   "metadata": {},
   "source": [
    "# pefrom feature selection : 1) chi2 2)  SEQUENTIAL"
   ]
  },
  {
   "cell_type": "code",
   "execution_count": 13,
   "metadata": {},
   "outputs": [],
   "source": [
    "from sklearn.preprocessing import MinMaxScaler\n",
    "\n",
    "rs = MinMaxScaler()\n",
    "x_data_fs = rs.fit_transform(x_data)"
   ]
  },
  {
   "cell_type": "code",
   "execution_count": 14,
   "metadata": {},
   "outputs": [],
   "source": [
    " from sklearn.feature_selection import SelectKBest, chi2"
   ]
  },
  {
   "cell_type": "code",
   "execution_count": 15,
   "metadata": {},
   "outputs": [],
   "source": [
    "select_feature = SelectKBest(chi2, k =100).fit(x_data_fs,y_data)"
   ]
  },
  {
   "cell_type": "code",
   "execution_count": 16,
   "metadata": {},
   "outputs": [
    {
     "data": {
      "text/plain": [
       "1    55663\n",
       "0    22714\n",
       "Name: marker, dtype: int64"
      ]
     },
     "execution_count": 16,
     "metadata": {},
     "output_type": "execute_result"
    }
   ],
   "source": [
    "y_data['marker'].value_counts()"
   ]
  },
  {
   "cell_type": "code",
   "execution_count": 17,
   "metadata": {},
   "outputs": [],
   "source": [
    "x_data = select_feature.transform(x_data)"
   ]
  },
  {
   "cell_type": "code",
   "execution_count": 18,
   "metadata": {},
   "outputs": [
    {
     "data": {
      "text/plain": [
       "(78377, 100)"
      ]
     },
     "execution_count": 18,
     "metadata": {},
     "output_type": "execute_result"
    }
   ],
   "source": [
    "x_data.shape"
   ]
  },
  {
   "cell_type": "code",
   "execution_count": 19,
   "metadata": {},
   "outputs": [],
   "source": [
    "from imblearn.combine import SMOTETomek"
   ]
  },
  {
   "cell_type": "code",
   "execution_count": 20,
   "metadata": {},
   "outputs": [],
   "source": [
    "smk = SMOTETomek(random_state = 2)\n",
    "x_data_osampled, y_data_osampled = smk.fit_resample(x_data,y_data)"
   ]
  },
  {
   "cell_type": "code",
   "execution_count": null,
   "metadata": {},
   "outputs": [],
   "source": []
  },
  {
   "cell_type": "code",
   "execution_count": null,
   "metadata": {},
   "outputs": [],
   "source": []
  },
  {
   "cell_type": "code",
   "execution_count": 21,
   "metadata": {},
   "outputs": [],
   "source": [
    "from sklearn.model_selection import train_test_split\n",
    "\n",
    "\n",
    "x_train,x_test,y_train,y_test = train_test_split(x_data_osampled,y_data_osampled, test_size = 0.2, random_state = 2)"
   ]
  },
  {
   "cell_type": "code",
   "execution_count": 24,
   "metadata": {},
   "outputs": [
    {
     "data": {
      "text/plain": [
       "1    43788\n",
       "0    43788\n",
       "Name: marker, dtype: int64"
      ]
     },
     "execution_count": 24,
     "metadata": {},
     "output_type": "execute_result"
    }
   ],
   "source": [
    "y_train['marker'].value_counts()"
   ]
  },
  {
   "cell_type": "code",
   "execution_count": 21,
   "metadata": {},
   "outputs": [],
   "source": [
    "from sklearn.ensemble import AdaBoostClassifier\n",
    "from sklearn.ensemble import RandomForestClassifier\n"
   ]
  },
  {
   "cell_type": "code",
   "execution_count": 22,
   "metadata": {},
   "outputs": [],
   "source": [
    "\n",
    "rf = RandomForestClassifier()"
   ]
  },
  {
   "cell_type": "markdown",
   "metadata": {},
   "source": [
    "# using random forest as base estimator"
   ]
  },
  {
   "cell_type": "code",
   "execution_count": 23,
   "metadata": {},
   "outputs": [],
   "source": [
    "ada = AdaBoostClassifier(base_estimator = rf, n_estimators = 500, learning_rate = 0.1,)"
   ]
  },
  {
   "cell_type": "code",
   "execution_count": 24,
   "metadata": {},
   "outputs": [],
   "source": [
    "y_train = y_train['marker']"
   ]
  },
  {
   "cell_type": "code",
   "execution_count": 25,
   "metadata": {},
   "outputs": [
    {
     "name": "stdout",
     "output_type": "stream",
     "text": [
      "1618462936.8816476\n",
      "1618462998.8851156\n",
      " It took   62.00346803665161   seconds to run the whole program .\n"
     ]
    }
   ],
   "source": [
    "import time\n",
    "timestart = time.time()\n",
    "print(timestart)\n",
    "ada.fit(x_train,y_train)\n",
    "timeend = time.time()\n",
    "print(timeend)\n",
    "\n",
    "timetaken = timeend - timestart\n",
    "\n",
    "print (f\" It took   {timetaken}   seconds to run the whole program .\") #using f string \n"
   ]
  },
  {
   "cell_type": "code",
   "execution_count": 26,
   "metadata": {},
   "outputs": [
    {
     "name": "stdout",
     "output_type": "stream",
     "text": [
      "1618462998.8940883\n",
      "1618462999.392755\n",
      " It took   0.49866676330566406   seconds to run the whole program .\n"
     ]
    }
   ],
   "source": [
    "import time\n",
    "timestart = time.time()\n",
    "print(timestart)\n",
    "pred_ada = ada.predict(x_test)\n",
    "timeend = time.time()\n",
    "print(timeend)\n",
    "\n",
    "timetaken = timeend - timestart\n",
    "\n",
    "print (f\" It took   {timetaken}   seconds to run the whole program .\") #using f string \n",
    "\n"
   ]
  },
  {
   "cell_type": "code",
   "execution_count": 28,
   "metadata": {},
   "outputs": [],
   "source": [
    "from sklearn.metrics import classification_report\n",
    "\n",
    "\n",
    "cr_ada = classification_report(y_test,pred_ada,digits = 5)"
   ]
  },
  {
   "cell_type": "code",
   "execution_count": 29,
   "metadata": {},
   "outputs": [
    {
     "name": "stdout",
     "output_type": "stream",
     "text": [
      "              precision    recall  f1-score   support\n",
      "\n",
      "           0    0.94872   0.95834   0.95351     10947\n",
      "           1    0.95792   0.94820   0.95304     10947\n",
      "\n",
      "    accuracy                        0.95327     21894\n",
      "   macro avg    0.95332   0.95327   0.95327     21894\n",
      "weighted avg    0.95332   0.95327   0.95327     21894\n",
      "\n"
     ]
    }
   ],
   "source": [
    "print(cr_ada)"
   ]
  },
  {
   "cell_type": "code",
   "execution_count": null,
   "metadata": {},
   "outputs": [],
   "source": []
  },
  {
   "cell_type": "code",
   "execution_count": 30,
   "metadata": {},
   "outputs": [],
   "source": [
    "\n",
    " from sklearn.tree import DecisionTreeClassifier"
   ]
  },
  {
   "cell_type": "code",
   "execution_count": 31,
   "metadata": {},
   "outputs": [],
   "source": [
    "\n",
    " dt = DecisionTreeClassifier(max_depth = 100, criterion = 'gini')\n"
   ]
  },
  {
   "cell_type": "code",
   "execution_count": 32,
   "metadata": {},
   "outputs": [
    {
     "name": "stdout",
     "output_type": "stream",
     "text": [
      "1618463030.964286\n",
      "1618463039.129448\n",
      " It took   8.165161848068237   seconds to run the whole program .\n"
     ]
    }
   ],
   "source": [
    "import time\n",
    "timestart = time.time()\n",
    "print(timestart)\n",
    "dt.fit(x_train,y_train)\n",
    "timeend = time.time()\n",
    "print(timeend)\n",
    "\n",
    "timetaken = timeend - timestart\n",
    "\n",
    "print (f\" It took   {timetaken}   seconds to run the whole program .\") #using f string \n"
   ]
  },
  {
   "cell_type": "code",
   "execution_count": 33,
   "metadata": {},
   "outputs": [
    {
     "name": "stdout",
     "output_type": "stream",
     "text": [
      "1618463039.141471\n",
      "1618463039.158429\n",
      " It took   0.016957998275756836   seconds to run the whole program .\n"
     ]
    }
   ],
   "source": [
    "import time\n",
    "timestart = time.time()\n",
    "print(timestart)\n",
    "pred_dt = dt.predict(x_test)\n",
    "timeend = time.time()\n",
    "print(timeend)\n",
    "\n",
    "timetaken = timeend - timestart\n",
    "\n",
    "print (f\" It took   {timetaken}   seconds to run the whole program .\") #using f string \n",
    "\n"
   ]
  },
  {
   "cell_type": "code",
   "execution_count": 34,
   "metadata": {},
   "outputs": [],
   "source": [
    "cr__dt = classification_report(y_test,pred_dt,digits = 5)"
   ]
  },
  {
   "cell_type": "code",
   "execution_count": 35,
   "metadata": {},
   "outputs": [
    {
     "name": "stdout",
     "output_type": "stream",
     "text": [
      "              precision    recall  f1-score   support\n",
      "\n",
      "           0    0.88064   0.89979   0.89011     10947\n",
      "           1    0.89756   0.87805   0.88770     10947\n",
      "\n",
      "    accuracy                        0.88892     21894\n",
      "   macro avg    0.88910   0.88892   0.88891     21894\n",
      "weighted avg    0.88910   0.88892   0.88891     21894\n",
      "\n"
     ]
    }
   ],
   "source": [
    "print(cr__dt)"
   ]
  },
  {
   "cell_type": "code",
   "execution_count": 36,
   "metadata": {},
   "outputs": [],
   "source": [
    "from sklearn.neighbors import KNeighborsClassifier\n"
   ]
  },
  {
   "cell_type": "code",
   "execution_count": 37,
   "metadata": {},
   "outputs": [],
   "source": [
    "\n",
    "knn = KNeighborsClassifier(n_neighbors=2)"
   ]
  },
  {
   "cell_type": "code",
   "execution_count": 38,
   "metadata": {},
   "outputs": [
    {
     "name": "stdout",
     "output_type": "stream",
     "text": [
      "1618463045.535093\n",
      "1618463045.551051\n",
      " It took   0.01595783233642578   seconds to run the whole program .\n"
     ]
    }
   ],
   "source": [
    "import time\n",
    "timestart = time.time()\n",
    "print(timestart)\n",
    "knn.fit(x_train,y_train)\n",
    "timeend = time.time()\n",
    "print(timeend)\n",
    "\n",
    "timetaken = timeend - timestart\n",
    "\n",
    "print (f\" It took   {timetaken}   seconds to run the whole program .\") #using f string \n"
   ]
  },
  {
   "cell_type": "code",
   "execution_count": 39,
   "metadata": {},
   "outputs": [
    {
     "name": "stdout",
     "output_type": "stream",
     "text": [
      "1618463046.8875213\n",
      "1618463072.2591767\n",
      " It took   25.371655464172363   seconds to run the whole program .\n"
     ]
    }
   ],
   "source": [
    "import time\n",
    "timestart = time.time()\n",
    "print(timestart)\n",
    "pred_knn = knn.predict(x_test)\n",
    "timeend = time.time()\n",
    "print(timeend)\n",
    "\n",
    "timetaken = timeend - timestart\n",
    "\n",
    "print (f\" It took   {timetaken}   seconds to run the whole program .\") #using f string \n",
    "\n"
   ]
  },
  {
   "cell_type": "code",
   "execution_count": 40,
   "metadata": {},
   "outputs": [],
   "source": [
    "cr_knn = classification_report(y_test,pred_knn,digits = 5)"
   ]
  },
  {
   "cell_type": "code",
   "execution_count": 41,
   "metadata": {},
   "outputs": [
    {
     "name": "stdout",
     "output_type": "stream",
     "text": [
      "              precision    recall  f1-score   support\n",
      "\n",
      "           0    0.83076   0.98337   0.90065     10947\n",
      "           1    0.97963   0.79967   0.88055     10947\n",
      "\n",
      "    accuracy                        0.89152     21894\n",
      "   macro avg    0.90520   0.89152   0.89060     21894\n",
      "weighted avg    0.90520   0.89152   0.89060     21894\n",
      "\n"
     ]
    }
   ],
   "source": [
    "print(cr_knn)"
   ]
  },
  {
   "cell_type": "markdown",
   "metadata": {},
   "source": [
    "# all results are now completed"
   ]
  },
  {
   "cell_type": "code",
   "execution_count": null,
   "metadata": {},
   "outputs": [],
   "source": []
  }
 ],
 "metadata": {
  "kernelspec": {
   "display_name": "Python 3",
   "language": "python",
   "name": "python3"
  },
  "language_info": {
   "codemirror_mode": {
    "name": "ipython",
    "version": 3
   },
   "file_extension": ".py",
   "mimetype": "text/x-python",
   "name": "python",
   "nbconvert_exporter": "python",
   "pygments_lexer": "ipython3",
   "version": "3.8.3"
  }
 },
 "nbformat": 4,
 "nbformat_minor": 4
}
